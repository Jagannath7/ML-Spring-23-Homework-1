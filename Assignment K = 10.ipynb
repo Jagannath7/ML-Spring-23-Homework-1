{
 "cells": [
  {
   "cell_type": "code",
   "execution_count": 1,
   "id": "d459113c",
   "metadata": {},
   "outputs": [],
   "source": [
    "import numpy as np\n",
    "import matplotlib.pyplot as plt\n",
    "\n",
    "from sklearn.linear_model import LinearRegression\n",
    "from sklearn.linear_model import Ridge"
   ]
  },
  {
   "cell_type": "code",
   "execution_count": 2,
   "id": "8dc12573",
   "metadata": {},
   "outputs": [],
   "source": [
    "# K =10\n",
    "mu = 0\n",
    "sigma = 1\n",
    "theta = np.random.normal(mu, sigma, 10)"
   ]
  },
  {
   "cell_type": "code",
   "execution_count": 3,
   "id": "849f728e",
   "metadata": {},
   "outputs": [
    {
     "data": {
      "text/plain": [
       "array([ 0.38551813,  0.27517106, -0.06071895, -1.94012207, -1.25764127,\n",
       "        1.43174239, -0.13729164, -0.70401686,  0.19646283, -0.03721637])"
      ]
     },
     "execution_count": 3,
     "metadata": {},
     "output_type": "execute_result"
    }
   ],
   "source": [
    "theta"
   ]
  },
  {
   "cell_type": "code",
   "execution_count": 4,
   "id": "f1ea794b",
   "metadata": {},
   "outputs": [],
   "source": [
    "\n",
    "mean = 0\n",
    "std = 2 # variance = 4\n",
    "X_vc = np.random.normal(mean, std, size = (1200,10))\n",
    "X_c = np.random.normal(mean, std, size = (200,10))\n",
    "X_Costly = np.random.normal(mean, std, size = (7,10))"
   ]
  },
  {
   "cell_type": "code",
   "execution_count": 5,
   "id": "6d561ba8",
   "metadata": {},
   "outputs": [],
   "source": [
    "# noise\n",
    "epsilon1 = np.random.normal(0 , 0.31, 1200).reshape(1200,1)\n",
    "epsilon2 = np.random.normal(0 , 0.31, 200).reshape(200,1)\n",
    "epsilon3 = np.random.normal(0 , 0.31, 7).reshape(7,1)"
   ]
  },
  {
   "cell_type": "code",
   "execution_count": 6,
   "id": "76aaac65",
   "metadata": {},
   "outputs": [
    {
     "data": {
      "text/plain": [
       "(1200, 1)"
      ]
     },
     "execution_count": 6,
     "metadata": {},
     "output_type": "execute_result"
    }
   ],
   "source": [
    "epsilon1.shape"
   ]
  },
  {
   "cell_type": "code",
   "execution_count": 7,
   "id": "fa9cf564",
   "metadata": {},
   "outputs": [],
   "source": [
    "theta = theta.reshape(10,1)"
   ]
  },
  {
   "cell_type": "code",
   "execution_count": 8,
   "id": "f2ec5397",
   "metadata": {},
   "outputs": [],
   "source": [
    "y1 = X_vc@theta + epsilon1\n",
    "y2 = X_c@theta + epsilon2\n",
    "y3 = X_Costly@theta + epsilon3"
   ]
  },
  {
   "cell_type": "code",
   "execution_count": 9,
   "id": "cd4eab9c",
   "metadata": {},
   "outputs": [],
   "source": [
    "lr = LinearRegression()\n",
    "ridge = Ridge()"
   ]
  },
  {
   "cell_type": "code",
   "execution_count": 10,
   "id": "ffa57bf3",
   "metadata": {},
   "outputs": [
    {
     "data": {
      "text/plain": [
       "LinearRegression()"
      ]
     },
     "execution_count": 10,
     "metadata": {},
     "output_type": "execute_result"
    }
   ],
   "source": [
    "lr.fit(X_vc, y1)"
   ]
  },
  {
   "cell_type": "code",
   "execution_count": 11,
   "id": "1f1e233e",
   "metadata": {},
   "outputs": [],
   "source": [
    "theta_1 = lr.coef_"
   ]
  },
  {
   "cell_type": "code",
   "execution_count": 12,
   "id": "01033645",
   "metadata": {},
   "outputs": [
    {
     "data": {
      "text/plain": [
       "array([[ 0.38589849,  0.27916855, -0.06068057, -1.93748828, -1.25648967,\n",
       "         1.43308447, -0.13719926, -0.70144779,  0.19768017, -0.03784555]])"
      ]
     },
     "execution_count": 12,
     "metadata": {},
     "output_type": "execute_result"
    }
   ],
   "source": [
    "theta_1"
   ]
  },
  {
   "cell_type": "code",
   "execution_count": 13,
   "id": "f79851a3",
   "metadata": {},
   "outputs": [
    {
     "data": {
      "text/plain": [
       "LinearRegression()"
      ]
     },
     "execution_count": 13,
     "metadata": {},
     "output_type": "execute_result"
    }
   ],
   "source": [
    "lr.fit(X_c, y2)"
   ]
  },
  {
   "cell_type": "code",
   "execution_count": 14,
   "id": "2699f458",
   "metadata": {},
   "outputs": [
    {
     "data": {
      "text/plain": [
       "array([[ 0.38445874,  0.28972902, -0.08333967, -1.92624853, -1.2718668 ,\n",
       "         1.44011633, -0.14069093, -0.68769528,  0.18201896, -0.02898883]])"
      ]
     },
     "execution_count": 14,
     "metadata": {},
     "output_type": "execute_result"
    }
   ],
   "source": [
    "theta_2 = lr.coef_\n",
    "theta_2"
   ]
  },
  {
   "cell_type": "code",
   "execution_count": 15,
   "id": "3a442f0b",
   "metadata": {},
   "outputs": [
    {
     "data": {
      "text/plain": [
       "LinearRegression()"
      ]
     },
     "execution_count": 15,
     "metadata": {},
     "output_type": "execute_result"
    }
   ],
   "source": [
    "lr.fit(X_Costly, y3)"
   ]
  },
  {
   "cell_type": "code",
   "execution_count": 16,
   "id": "a040051c",
   "metadata": {},
   "outputs": [
    {
     "data": {
      "text/plain": [
       "array([[ 0.36723799, -0.02698671, -0.54709092, -1.05122076, -1.30350215,\n",
       "         1.15036346, -0.43178178,  0.63852141,  0.31281291, -0.19466772]])"
      ]
     },
     "execution_count": 16,
     "metadata": {},
     "output_type": "execute_result"
    }
   ],
   "source": [
    "theta_3 = lr.coef_\n",
    "theta_3"
   ]
  },
  {
   "cell_type": "code",
   "execution_count": 17,
   "id": "50ffaae7",
   "metadata": {},
   "outputs": [
    {
     "data": {
      "text/plain": [
       "12.517189398511672"
      ]
     },
     "execution_count": 17,
     "metadata": {},
     "output_type": "execute_result"
    }
   ],
   "source": [
    "dist1 =  np.linalg.norm(theta - theta_1)\n",
    "dist2 =  np.linalg.norm(theta - theta_2)\n",
    "dist3 =  np.linalg.norm(theta - theta_3)\n",
    "dist1"
   ]
  },
  {
   "cell_type": "code",
   "execution_count": 22,
   "id": "e895791c",
   "metadata": {},
   "outputs": [
    {
     "data": {
      "image/png": "[encoded data removed]",
      "text/plain": [
       "<Figure size 432x288 with 1 Axes>"
      ]
     },
     "metadata": {
      "needs_background": "light"
     },
     "output_type": "display_data"
    }
   ],
   "source": [
    "samples = np.array([7, 200, 1200])\n",
    "l2 = np.array([dist3, dist2, dist1])\n",
    "plt.plot(samples, l2)\n",
    "plt.xlabel(\"number of samples\")\n",
    "plt.ylabel('L2 distance')\n",
    "plt.show()"
   ]
  },
  {
   "cell_type": "code",
   "execution_count": 28,
   "id": "f023f596",
   "metadata": {},
   "outputs": [],
   "source": [
    "lambda_parameter = [0.01, 0.02, 0.04, 0.08, 0.16, 0.32, 1, 10]\n",
    "dist = []\n",
    "for i in range(0, 8):\n",
    "    ridge = Ridge(alpha = lambda_parameter[i])\n",
    "    ridge.fit(X_vc, y1)\n",
    "    theta_ = ridge.coef_\n",
    "    dist.append(np.linalg.norm(theta_ - theta))"
   ]
  },
  {
   "cell_type": "code",
   "execution_count": 29,
   "id": "b6eb9724",
   "metadata": {},
   "outputs": [
    {
     "data": {
      "text/plain": [
       "[12.517176447893068,\n",
       " 12.517163497343425,\n",
       " 12.517137596451006,\n",
       " 12.517085795493623,\n",
       " 12.516982196888566,\n",
       " 12.516775012916451,\n",
       " 12.515894677907154,\n",
       " 12.50427314260591]"
      ]
     },
     "execution_count": 29,
     "metadata": {},
     "output_type": "execute_result"
    }
   ],
   "source": [
    "dist"
   ]
  },
  {
   "cell_type": "code",
   "execution_count": 30,
   "id": "bd3e4f44",
   "metadata": {},
   "outputs": [
    {
     "data": {
      "image/png": "[encoded data removed]",
      "text/plain": [
       "<Figure size 432x288 with 1 Axes>"
      ]
     },
     "metadata": {
      "needs_background": "light"
     },
     "output_type": "display_data"
    }
   ],
   "source": [
    "plt.plot(lambda_parameter, dist)\n",
    "plt.xlabel(\"Different values of Lambda\")\n",
    "plt.ylabel('L2 distance')\n",
    "plt.show()"
   ]
  },
  {
   "cell_type": "code",
   "execution_count": null,
   "id": "d2a879de",
   "metadata": {},
   "outputs": [],
   "source": []
  }
 ],
 "metadata": {
  "kernelspec": {
   "display_name": "Python 3",
   "language": "python",
   "name": "python3"
  },
  "language_info": {
   "codemirror_mode": {
    "name": "ipython",
    "version": 3
   },
   "file_extension": ".py",
   "mimetype": "text/x-python",
   "name": "python",
   "nbconvert_exporter": "python",
   "pygments_lexer": "ipython3",
   "version": "3.6.6"
  }
 },
 "nbformat": 4,
 "nbformat_minor": 5
}
