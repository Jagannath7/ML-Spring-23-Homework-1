{
 "cells": [
  {
   "cell_type": "code",
   "execution_count": 1,
   "id": "d459113c",
   "metadata": {},
   "outputs": [],
   "source": [
    "import numpy as np\n",
    "import matplotlib.pyplot as plt\n",
    "\n",
    "from sklearn.linear_model import LinearRegression\n",
    "from sklearn.linear_model import Ridge"
   ]
  },
  {
   "cell_type": "code",
   "execution_count": 2,
   "id": "8dc12573",
   "metadata": {},
   "outputs": [],
   "source": [
    "# K =3\n",
    "mu = 0\n",
    "sigma = 1\n",
    "theta = np.random.normal(mu, sigma, 3)"
   ]
  },
  {
   "cell_type": "code",
   "execution_count": 3,
   "id": "849f728e",
   "metadata": {},
   "outputs": [
    {
     "data": {
      "text/plain": [
       "array([-0.42924329, -0.86236361, -0.42890474])"
      ]
     },
     "execution_count": 3,
     "metadata": {},
     "output_type": "execute_result"
    }
   ],
   "source": [
    "theta"
   ]
  },
  {
   "cell_type": "code",
   "execution_count": 4,
   "id": "f1ea794b",
   "metadata": {},
   "outputs": [],
   "source": [
    "\n",
    "mean = 0\n",
    "std = 2\n",
    "X_vc = np.random.normal(mean, std, size = (500,3))\n",
    "X_c = np.random.normal(mean, std, size = (100,3))\n",
    "X_Costly = np.random.normal(mean, std, size = (2,3))"
   ]
  },
  {
   "cell_type": "code",
   "execution_count": 17,
   "id": "6d561ba8",
   "metadata": {},
   "outputs": [],
   "source": [
    "epsilon1 = np.random.normal(0 , 0.31, 500).reshape(500,1)\n",
    "epsilon2 = np.random.normal(0 , 0.31, 100).reshape(100,1)\n",
    "epsilon3 = np.random.normal(0 , 0.31, 2).reshape(2,1)"
   ]
  },
  {
   "cell_type": "code",
   "execution_count": 18,
   "id": "76aaac65",
   "metadata": {},
   "outputs": [
    {
     "data": {
      "text/plain": [
       "(500, 1)"
      ]
     },
     "execution_count": 18,
     "metadata": {},
     "output_type": "execute_result"
    }
   ],
   "source": [
    "epsilon1.shape"
   ]
  },
  {
   "cell_type": "code",
   "execution_count": 6,
   "id": "fa9cf564",
   "metadata": {},
   "outputs": [],
   "source": [
    "theta = theta.reshape(3,1)"
   ]
  },
  {
   "cell_type": "code",
   "execution_count": 21,
   "id": "f2ec5397",
   "metadata": {},
   "outputs": [],
   "source": [
    "y1 = X_vc@theta + epsilon1\n",
    "y2 = X_c@theta + epsilon2\n",
    "y3 = X_Costly@theta + epsilon3"
   ]
  },
  {
   "cell_type": "code",
   "execution_count": 25,
   "id": "cd4eab9c",
   "metadata": {},
   "outputs": [],
   "source": [
    "lr = LinearRegression()\n",
    "ridge = Ridge()"
   ]
  },
  {
   "cell_type": "code",
   "execution_count": 26,
   "id": "ffa57bf3",
   "metadata": {},
   "outputs": [
    {
     "data": {
      "text/plain": [
       "LinearRegression()"
      ]
     },
     "execution_count": 26,
     "metadata": {},
     "output_type": "execute_result"
    }
   ],
   "source": [
    "lr.fit(X_vc, y1)"
   ]
  },
  {
   "cell_type": "code",
   "execution_count": 27,
   "id": "1f1e233e",
   "metadata": {},
   "outputs": [],
   "source": [
    "theta_1 = lr.coef_"
   ]
  },
  {
   "cell_type": "code",
   "execution_count": 28,
   "id": "01033645",
   "metadata": {},
   "outputs": [
    {
     "data": {
      "text/plain": [
       "array([[-0.4309279 , -0.85525302, -0.42231293]])"
      ]
     },
     "execution_count": 28,
     "metadata": {},
     "output_type": "execute_result"
    }
   ],
   "source": [
    "theta_1"
   ]
  },
  {
   "cell_type": "code",
   "execution_count": 29,
   "id": "f79851a3",
   "metadata": {},
   "outputs": [
    {
     "data": {
      "text/plain": [
       "LinearRegression()"
      ]
     },
     "execution_count": 29,
     "metadata": {},
     "output_type": "execute_result"
    }
   ],
   "source": [
    "lr.fit(X_c, y2)"
   ]
  },
  {
   "cell_type": "code",
   "execution_count": 30,
   "id": "2699f458",
   "metadata": {},
   "outputs": [
    {
     "data": {
      "text/plain": [
       "array([[-0.42646316, -0.8557202 , -0.43881702]])"
      ]
     },
     "execution_count": 30,
     "metadata": {},
     "output_type": "execute_result"
    }
   ],
   "source": [
    "theta_2 = lr.coef_\n",
    "theta_2"
   ]
  },
  {
   "cell_type": "code",
   "execution_count": 31,
   "id": "3a442f0b",
   "metadata": {},
   "outputs": [
    {
     "data": {
      "text/plain": [
       "LinearRegression()"
      ]
     },
     "execution_count": 31,
     "metadata": {},
     "output_type": "execute_result"
    }
   ],
   "source": [
    "lr.fit(X_Costly, y3)"
   ]
  },
  {
   "cell_type": "code",
   "execution_count": 32,
   "id": "a040051c",
   "metadata": {},
   "outputs": [
    {
     "data": {
      "text/plain": [
       "array([[-0.48516244, -0.57791111,  0.47771665]])"
      ]
     },
     "execution_count": 32,
     "metadata": {},
     "output_type": "execute_result"
    }
   ],
   "source": [
    "theta_3 = lr.coef_\n",
    "theta_3"
   ]
  },
  {
   "cell_type": "code",
   "execution_count": 39,
   "id": "50ffaae7",
   "metadata": {},
   "outputs": [
    {
     "data": {
      "text/plain": [
       "0.8620832353978687"
      ]
     },
     "execution_count": 39,
     "metadata": {},
     "output_type": "execute_result"
    }
   ],
   "source": [
    "dist1 =  np.linalg.norm(theta - theta_1)\n",
    "dist2 =  np.linalg.norm(theta - theta_2)\n",
    "dist3 =  np.linalg.norm(theta - theta_3)\n",
    "dist1"
   ]
  },
  {
   "cell_type": "code",
   "execution_count": 40,
   "id": "e895791c",
   "metadata": {},
   "outputs": [
    {
     "data": {
      "image/png": "[encoded data removed]",
      "text/plain": [
       "<Figure size 432x288 with 1 Axes>"
      ]
     },
     "metadata": {
      "needs_background": "light"
     },
     "output_type": "display_data"
    }
   ],
   "source": [
    "samples = np.array([2, 100, 500])\n",
    "l2 = np.array([dist3, dist2, dist1])\n",
    "plt.plot(samples, l2)\n",
    "plt.show()"
   ]
  },
  {
   "cell_type": "code",
   "execution_count": 42,
   "id": "f023f596",
   "metadata": {},
   "outputs": [],
   "source": [
    "lambda_parameter = [0.01, 0.02, 0.04, 0.08, 0.16, 0.32]\n",
    "dist = []\n",
    "for i in range(0, 6):\n",
    "    ridge = Ridge(alpha = lambda_parameter[i])\n",
    "    ridge.fit(X_vc, y1)\n",
    "    theta_ = ridge.coef_\n",
    "    dist.append(np.linalg.norm(theta - theta_))"
   ]
  },
  {
   "cell_type": "code",
   "execution_count": 43,
   "id": "b6eb9724",
   "metadata": {},
   "outputs": [
    {
     "data": {
      "text/plain": [
       "[0.8620815452982884,\n",
       " 0.8620798553093191,\n",
       " 0.8620764756632047,\n",
       " 0.8620697176981961,\n",
       " 0.8620562070764747,\n",
       " 0.8620292070615089]"
      ]
     },
     "execution_count": 43,
     "metadata": {},
     "output_type": "execute_result"
    }
   ],
   "source": [
    "dist"
   ]
  },
  {
   "cell_type": "code",
   "execution_count": 44,
   "id": "bd3e4f44",
   "metadata": {},
   "outputs": [
    {
     "data": {
      "image/png": "[encoded data removed]",
      "text/plain": [
       "<Figure size 432x288 with 1 Axes>"
      ]
     },
     "metadata": {
      "needs_background": "light"
     },
     "output_type": "display_data"
    }
   ],
   "source": [
    "plt.plot(lambda_parameter, dist)\n",
    "plt.show()"
   ]
  },
  {
   "cell_type": "code",
   "execution_count": null,
   "id": "d2a879de",
   "metadata": {},
   "outputs": [],
   "source": []
  }
 ],
 "metadata": {
  "kernelspec": {
   "display_name": "Python 3",
   "language": "python",
   "name": "python3"
  },
  "language_info": {
   "codemirror_mode": {
    "name": "ipython",
    "version": 3
   },
   "file_extension": ".py",
   "mimetype": "text/x-python",
   "name": "python",
   "nbconvert_exporter": "python",
   "pygments_lexer": "ipython3",
   "version": "3.6.6"
  }
 },
 "nbformat": 4,
 "nbformat_minor": 5
}
