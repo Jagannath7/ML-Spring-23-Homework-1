{
 "cells": [
  {
   "cell_type": "code",
   "execution_count": 45,
   "id": "294140a3",
   "metadata": {},
   "outputs": [],
   "source": [
    "import numpy as np\n",
    "import matplotlib.pyplot as plt\n",
    "\n",
    "from sklearn.linear_model import LinearRegression\n",
    "from sklearn.linear_model import Ridge"
   ]
  },
  {
   "cell_type": "code",
   "execution_count": 46,
   "id": "cdd6d2f7",
   "metadata": {},
   "outputs": [],
   "source": [
    "# K =3\n",
    "mu = 0\n",
    "sigma = 1\n",
    "theta = np.random.normal(mu, sigma, 3)"
   ]
  },
  {
   "cell_type": "code",
   "execution_count": 47,
   "id": "083196be",
   "metadata": {},
   "outputs": [
    {
     "data": {
      "text/plain": [
       "array([ 0.41819709, -0.45668551,  0.66845521])"
      ]
     },
     "execution_count": 47,
     "metadata": {},
     "output_type": "execute_result"
    }
   ],
   "source": [
    "theta"
   ]
  },
  {
   "cell_type": "code",
   "execution_count": 48,
   "id": "61157656",
   "metadata": {},
   "outputs": [],
   "source": [
    "\n",
    "mean = 0\n",
    "std = 2\n",
    "X_vc = np.random.normal(mean, std, size = (500,3))\n",
    "X_c = np.random.normal(mean, std, size = (100,3))\n",
    "X_Costly = np.random.normal(mean, std, size = (2,3))"
   ]
  },
  {
   "cell_type": "code",
   "execution_count": 49,
   "id": "d5e9e9fb",
   "metadata": {},
   "outputs": [],
   "source": [
    "epsilon1 = np.random.normal(0 , 0.31, 500).reshape(500,1)\n",
    "epsilon2 = np.random.normal(0 , 0.31, 100).reshape(100,1)\n",
    "epsilon3 = np.random.normal(0 , 0.31, 2).reshape(2,1)"
   ]
  },
  {
   "cell_type": "code",
   "execution_count": 50,
   "id": "95b1f8e7",
   "metadata": {},
   "outputs": [
    {
     "data": {
      "text/plain": [
       "(500, 1)"
      ]
     },
     "execution_count": 50,
     "metadata": {},
     "output_type": "execute_result"
    }
   ],
   "source": [
    "epsilon1.shape"
   ]
  },
  {
   "cell_type": "code",
   "execution_count": 51,
   "id": "6d6e54df",
   "metadata": {},
   "outputs": [],
   "source": [
    "theta = theta.reshape(3,1)"
   ]
  },
  {
   "cell_type": "code",
   "execution_count": 52,
   "id": "4edcc2e1",
   "metadata": {},
   "outputs": [],
   "source": [
    "y1 = X_vc@theta + epsilon1\n",
    "y2 = X_c@theta + epsilon2\n",
    "y3 = X_Costly@theta + epsilon3"
   ]
  },
  {
   "cell_type": "code",
   "execution_count": 53,
   "id": "777ac9f6",
   "metadata": {},
   "outputs": [],
   "source": [
    "lr = LinearRegression()\n",
    "ridge = Ridge()"
   ]
  },
  {
   "cell_type": "code",
   "execution_count": 54,
   "id": "ce438419",
   "metadata": {},
   "outputs": [
    {
     "data": {
      "text/plain": [
       "LinearRegression()"
      ]
     },
     "execution_count": 54,
     "metadata": {},
     "output_type": "execute_result"
    }
   ],
   "source": [
    "lr.fit(X_vc, y1)"
   ]
  },
  {
   "cell_type": "code",
   "execution_count": 55,
   "id": "74a6b74f",
   "metadata": {},
   "outputs": [],
   "source": [
    "theta_1 = lr.coef_"
   ]
  },
  {
   "cell_type": "code",
   "execution_count": 56,
   "id": "99fec7e1",
   "metadata": {},
   "outputs": [
    {
     "data": {
      "text/plain": [
       "array([[ 0.41895841, -0.46955127,  0.6406552 ]])"
      ]
     },
     "execution_count": 56,
     "metadata": {},
     "output_type": "execute_result"
    }
   ],
   "source": [
    "theta_1"
   ]
  },
  {
   "cell_type": "code",
   "execution_count": 57,
   "id": "583b5184",
   "metadata": {},
   "outputs": [
    {
     "data": {
      "text/plain": [
       "LinearRegression()"
      ]
     },
     "execution_count": 57,
     "metadata": {},
     "output_type": "execute_result"
    }
   ],
   "source": [
    "lr.fit(X_c, y2)"
   ]
  },
  {
   "cell_type": "code",
   "execution_count": 58,
   "id": "39196db1",
   "metadata": {},
   "outputs": [
    {
     "data": {
      "text/plain": [
       "array([[ 0.40250287, -0.45075557,  0.66124276]])"
      ]
     },
     "execution_count": 58,
     "metadata": {},
     "output_type": "execute_result"
    }
   ],
   "source": [
    "theta_2 = lr.coef_\n",
    "theta_2"
   ]
  },
  {
   "cell_type": "code",
   "execution_count": 59,
   "id": "462cf186",
   "metadata": {},
   "outputs": [
    {
     "data": {
      "text/plain": [
       "LinearRegression()"
      ]
     },
     "execution_count": 59,
     "metadata": {},
     "output_type": "execute_result"
    }
   ],
   "source": [
    "lr.fit(X_Costly, y3)"
   ]
  },
  {
   "cell_type": "code",
   "execution_count": 60,
   "id": "8b9f0a14",
   "metadata": {},
   "outputs": [
    {
     "data": {
      "text/plain": [
       "array([[0.54310016, 0.02982038, 0.21231012]])"
      ]
     },
     "execution_count": 60,
     "metadata": {},
     "output_type": "execute_result"
    }
   ],
   "source": [
    "theta_3 = lr.coef_\n",
    "theta_3"
   ]
  },
  {
   "cell_type": "code",
   "execution_count": 61,
   "id": "7f97209a",
   "metadata": {},
   "outputs": [
    {
     "data": {
      "text/plain": [
       "2.0412594205748986"
      ]
     },
     "execution_count": 61,
     "metadata": {},
     "output_type": "execute_result"
    }
   ],
   "source": [
    "dist1 =  np.linalg.norm(theta - theta_1)\n",
    "dist2 =  np.linalg.norm(theta - theta_2)\n",
    "dist3 =  np.linalg.norm(theta - theta_3)\n",
    "dist1"
   ]
  },
  {
   "cell_type": "code",
   "execution_count": 66,
   "id": "866aca0c",
   "metadata": {},
   "outputs": [
    {
     "data": {
      "image/png": "[encoded data removed]",
      "text/plain": [
       "<Figure size 432x288 with 1 Axes>"
      ]
     },
     "metadata": {
      "needs_background": "light"
     },
     "output_type": "display_data"
    }
   ],
   "source": [
    "samples = np.array([2, 100, 500])\n",
    "l2 = np.array([dist3, dist2, dist1])\n",
    "plt.plot(samples, l2)\n",
    "plt.xlabel(\"number of samples\")\n",
    "plt.ylabel('L2 distance')\n",
    "plt.show()"
   ]
  },
  {
   "cell_type": "code",
   "execution_count": 69,
   "id": "fcddb0c2",
   "metadata": {},
   "outputs": [],
   "source": [
    "lambda_parameter = [0.01, 0.02, 0.04, 0.08, 0.16, 0.32, 1, 10]\n",
    "dist = []\n",
    "for i in range(0, 8):\n",
    "    ridge = Ridge(alpha = lambda_parameter[i])\n",
    "    ridge.fit(X_vc, y1)\n",
    "    theta_ = ridge.coef_\n",
    "    dist.append(np.linalg.norm(theta - theta_))"
   ]
  },
  {
   "cell_type": "code",
   "execution_count": 70,
   "id": "43a51f6c",
   "metadata": {},
   "outputs": [
    {
     "data": {
      "text/plain": [
       "[2.041254441383742,\n",
       " 2.041249462261896,\n",
       " 2.0412395042261338,\n",
       " 2.0412195889862894,\n",
       " 2.0411797618330456,\n",
       " 2.041100120830114,\n",
       " 2.0407618443494915,\n",
       " 2.0363146454018866]"
      ]
     },
     "execution_count": 70,
     "metadata": {},
     "output_type": "execute_result"
    }
   ],
   "source": [
    "dist"
   ]
  },
  {
   "cell_type": "code",
   "execution_count": 71,
   "id": "1cc41079",
   "metadata": {},
   "outputs": [
    {
     "data": {
      "image/png": "[encoded data removed]",
      "text/plain": [
       "<Figure size 432x288 with 1 Axes>"
      ]
     },
     "metadata": {
      "needs_background": "light"
     },
     "output_type": "display_data"
    }
   ],
   "source": [
    "plt.plot(lambda_parameter, dist)\n",
    "plt.xlabel(\"Different values of Lambda\")\n",
    "plt.ylabel('L2 distance')\n",
    "plt.show()"
   ]
  },
  {
   "cell_type": "code",
   "execution_count": null,
   "id": "817f2419",
   "metadata": {},
   "outputs": [],
   "source": []
  },
  {
   "cell_type": "code",
   "execution_count": null,
   "id": "998026e6",
   "metadata": {},
   "outputs": [],
   "source": []
  },
  {
   "cell_type": "code",
   "execution_count": null,
   "id": "62c2579d",
   "metadata": {},
   "outputs": [],
   "source": []
  }
 ],
 "metadata": {
  "kernelspec": {
   "display_name": "Python 3",
   "language": "python",
   "name": "python3"
  },
  "language_info": {
   "codemirror_mode": {
    "name": "ipython",
    "version": 3
   },
   "file_extension": ".py",
   "mimetype": "text/x-python",
   "name": "python",
   "nbconvert_exporter": "python",
   "pygments_lexer": "ipython3",
   "version": "3.6.6"
  }
 },
 "nbformat": 4,
 "nbformat_minor": 5
}
