{
 "cells": [
  {
   "cell_type": "code",
   "execution_count": 10,
   "id": "d459113c",
   "metadata": {},
   "outputs": [],
   "source": [
    "import numpy as np\n",
    "import matplotlib.pyplot as plt\n",
    "\n",
    "from sklearn.linear_model import LinearRegression\n",
    "from sklearn.linear_model import Ridge"
   ]
  },
  {
   "cell_type": "code",
   "execution_count": 11,
   "id": "8dc12573",
   "metadata": {},
   "outputs": [],
   "source": [
    "# K = 20\n",
    "mu = 0\n",
    "sigma = 1\n",
    "theta = np.random.normal(mu, sigma, 20)"
   ]
  },
  {
   "cell_type": "code",
   "execution_count": 12,
   "id": "849f728e",
   "metadata": {},
   "outputs": [
    {
     "data": {
      "text/plain": [
       "array([-1.54101238,  1.84356979, -0.94676556,  0.30147803, -0.46678335,\n",
       "       -0.78454303,  0.56972648, -0.68137606,  0.58137367, -0.17353814,\n",
       "        0.02829836,  1.69255276, -1.31362643,  1.76441982,  0.81346651,\n",
       "        0.03005226, -0.10152034,  0.13601259,  0.96682846,  0.6821977 ])"
      ]
     },
     "execution_count": 12,
     "metadata": {},
     "output_type": "execute_result"
    }
   ],
   "source": [
    "theta"
   ]
  },
  {
   "cell_type": "code",
   "execution_count": 13,
   "id": "f1ea794b",
   "metadata": {},
   "outputs": [],
   "source": [
    "\n",
    "mean = 0\n",
    "std = 2\n",
    "X_vc = np.random.normal(mean, std, size = (5000,20))\n",
    "X_c = np.random.normal(mean, std, size = (400,20))\n",
    "X_Costly = np.random.normal(mean, std, size = (5,20))"
   ]
  },
  {
   "cell_type": "code",
   "execution_count": 14,
   "id": "6d561ba8",
   "metadata": {},
   "outputs": [],
   "source": [
    "epsilon1 = np.random.normal(0 , 0.31, 5000).reshape(5000,1)\n",
    "epsilon2 = np.random.normal(0 , 0.31, 400).reshape(400,1)\n",
    "epsilon3 = np.random.normal(0 , 0.31, 5).reshape(5,1)"
   ]
  },
  {
   "cell_type": "code",
   "execution_count": 15,
   "id": "76aaac65",
   "metadata": {},
   "outputs": [
    {
     "data": {
      "text/plain": [
       "(5000, 1)"
      ]
     },
     "execution_count": 15,
     "metadata": {},
     "output_type": "execute_result"
    }
   ],
   "source": [
    "epsilon1.shape"
   ]
  },
  {
   "cell_type": "code",
   "execution_count": 16,
   "id": "fa9cf564",
   "metadata": {},
   "outputs": [],
   "source": [
    "theta = theta.reshape(20,1)"
   ]
  },
  {
   "cell_type": "code",
   "execution_count": 17,
   "id": "f2ec5397",
   "metadata": {},
   "outputs": [],
   "source": [
    "y1 = X_vc@theta + epsilon1\n",
    "y2 = X_c@theta + epsilon2\n",
    "y3 = X_Costly@theta + epsilon3"
   ]
  },
  {
   "cell_type": "code",
   "execution_count": 18,
   "id": "cd4eab9c",
   "metadata": {},
   "outputs": [],
   "source": [
    "lr = LinearRegression()\n",
    "ridge = Ridge()"
   ]
  },
  {
   "cell_type": "code",
   "execution_count": 19,
   "id": "ffa57bf3",
   "metadata": {},
   "outputs": [
    {
     "data": {
      "text/plain": [
       "LinearRegression()"
      ]
     },
     "execution_count": 19,
     "metadata": {},
     "output_type": "execute_result"
    }
   ],
   "source": [
    "lr.fit(X_vc, y1)"
   ]
  },
  {
   "cell_type": "code",
   "execution_count": 20,
   "id": "1f1e233e",
   "metadata": {},
   "outputs": [],
   "source": [
    "theta_1 = lr.coef_"
   ]
  },
  {
   "cell_type": "code",
   "execution_count": 21,
   "id": "01033645",
   "metadata": {},
   "outputs": [
    {
     "data": {
      "text/plain": [
       "array([[-1.54233312,  1.84829661, -0.9488784 ,  0.3023441 , -0.46592384,\n",
       "        -0.7844748 ,  0.56783513, -0.6799327 ,  0.57999226, -0.17196163,\n",
       "         0.02480016,  1.69007518, -1.31679563,  1.76587564,  0.81343512,\n",
       "         0.0302461 , -0.10084894,  0.13918952,  0.96684946,  0.68323926]])"
      ]
     },
     "execution_count": 21,
     "metadata": {},
     "output_type": "execute_result"
    }
   ],
   "source": [
    "theta_1"
   ]
  },
  {
   "cell_type": "code",
   "execution_count": 22,
   "id": "f79851a3",
   "metadata": {},
   "outputs": [
    {
     "data": {
      "text/plain": [
       "LinearRegression()"
      ]
     },
     "execution_count": 22,
     "metadata": {},
     "output_type": "execute_result"
    }
   ],
   "source": [
    "lr.fit(X_c, y2)"
   ]
  },
  {
   "cell_type": "code",
   "execution_count": 23,
   "id": "2699f458",
   "metadata": {},
   "outputs": [
    {
     "data": {
      "text/plain": [
       "array([[-1.54194228,  1.84242184, -0.94605812,  0.3148318 , -0.47531567,\n",
       "        -0.78524032,  0.57760939, -0.68265341,  0.58367931, -0.15892526,\n",
       "         0.02728827,  1.69235979, -1.31039002,  1.77013463,  0.81399873,\n",
       "         0.01575475, -0.08781487,  0.12961145,  0.96412384,  0.684479  ]])"
      ]
     },
     "execution_count": 23,
     "metadata": {},
     "output_type": "execute_result"
    }
   ],
   "source": [
    "theta_2 = lr.coef_\n",
    "theta_2"
   ]
  },
  {
   "cell_type": "code",
   "execution_count": 24,
   "id": "3a442f0b",
   "metadata": {},
   "outputs": [
    {
     "data": {
      "text/plain": [
       "LinearRegression()"
      ]
     },
     "execution_count": 24,
     "metadata": {},
     "output_type": "execute_result"
    }
   ],
   "source": [
    "lr.fit(X_Costly, y3)"
   ]
  },
  {
   "cell_type": "code",
   "execution_count": 25,
   "id": "a040051c",
   "metadata": {},
   "outputs": [
    {
     "data": {
      "text/plain": [
       "array([[ 0.13156472,  0.15016394, -1.12156228,  0.12123262,  0.12366747,\n",
       "        -0.35901866,  0.18728692, -0.04076419,  0.09317737, -0.09571479,\n",
       "        -0.04951589,  0.50193769, -0.71313723, -0.01102439,  0.14976585,\n",
       "        -0.54906952, -0.44217636, -0.66591537,  1.19826978,  0.06505576]])"
      ]
     },
     "execution_count": 25,
     "metadata": {},
     "output_type": "execute_result"
    }
   ],
   "source": [
    "theta_3 = lr.coef_\n",
    "theta_3"
   ]
  },
  {
   "cell_type": "code",
   "execution_count": 26,
   "id": "50ffaae7",
   "metadata": {},
   "outputs": [
    {
     "data": {
      "text/plain": [
       "26.81914677721543"
      ]
     },
     "execution_count": 26,
     "metadata": {},
     "output_type": "execute_result"
    }
   ],
   "source": [
    "dist1 =  np.linalg.norm(theta - theta_1)\n",
    "dist2 =  np.linalg.norm(theta - theta_2)\n",
    "dist3 =  np.linalg.norm(theta - theta_3)\n",
    "dist1"
   ]
  },
  {
   "cell_type": "code",
   "execution_count": 31,
   "id": "e895791c",
   "metadata": {},
   "outputs": [
    {
     "data": {
      "image/png": "[encoded data removed]",
      "text/plain": [
       "<Figure size 432x288 with 1 Axes>"
      ]
     },
     "metadata": {
      "needs_background": "light"
     },
     "output_type": "display_data"
    }
   ],
   "source": [
    "samples = np.array([5, 400, 5000])\n",
    "l2 = np.array([dist3, dist2, dist1])\n",
    "plt.plot(samples, l2)\n",
    "plt.xlabel(\"number of samples\")\n",
    "plt.ylabel('L2 distance')\n",
    "plt.show()"
   ]
  },
  {
   "cell_type": "code",
   "execution_count": 33,
   "id": "f023f596",
   "metadata": {},
   "outputs": [],
   "source": [
    "lambda_parameter = [0.01, 0.02, 0.04, 0.08, 0.16, 0.32, 1, 10]\n",
    "dist = []\n",
    "for i in range(0, 8):\n",
    "    ridge = Ridge(alpha = lambda_parameter[i])\n",
    "    ridge.fit(X_vc, y1)\n",
    "    theta_ = ridge.coef_\n",
    "    dist.append(np.linalg.norm(theta - theta_))"
   ]
  },
  {
   "cell_type": "code",
   "execution_count": 34,
   "id": "b6eb9724",
   "metadata": {},
   "outputs": [
    {
     "data": {
      "text/plain": [
       "[26.819140122863836,\n",
       " 26.819133468520626,\n",
       " 26.819120159859345,\n",
       " 26.81909354263736,\n",
       " 26.819040308595717,\n",
       " 26.81893384212164,\n",
       " 26.818481383542828,\n",
       " 26.81249660993795]"
      ]
     },
     "execution_count": 34,
     "metadata": {},
     "output_type": "execute_result"
    }
   ],
   "source": [
    "dist"
   ]
  },
  {
   "cell_type": "code",
   "execution_count": 35,
   "id": "bd3e4f44",
   "metadata": {},
   "outputs": [
    {
     "data": {
      "image/png": "[encoded data removed]",
      "text/plain": [
       "<Figure size 432x288 with 1 Axes>"
      ]
     },
     "metadata": {
      "needs_background": "light"
     },
     "output_type": "display_data"
    }
   ],
   "source": [
    "plt.plot(lambda_parameter, dist)\n",
    "plt.xlabel(\"Different values of Lambda\")\n",
    "plt.ylabel('L2 distance')\n",
    "plt.show()"
   ]
  },
  {
   "cell_type": "code",
   "execution_count": null,
   "id": "d2a879de",
   "metadata": {},
   "outputs": [],
   "source": []
  }
 ],
 "metadata": {
  "kernelspec": {
   "display_name": "Python 3",
   "language": "python",
   "name": "python3"
  },
  "language_info": {
   "codemirror_mode": {
    "name": "ipython",
    "version": 3
   },
   "file_extension": ".py",
   "mimetype": "text/x-python",
   "name": "python",
   "nbconvert_exporter": "python",
   "pygments_lexer": "ipython3",
   "version": "3.6.6"
  }
 },
 "nbformat": 4,
 "nbformat_minor": 5
}
